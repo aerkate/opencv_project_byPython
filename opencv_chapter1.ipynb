{
 "cells": [
  {
   "cell_type": "code",
   "execution_count": 10,
   "metadata": {},
   "outputs": [
    {
     "name": "stdout",
     "output_type": "stream",
     "text": [
      "pressA\n"
     ]
    }
   ],
   "source": [
    "import cv2\n",
    "img = cv2.imread('image1.jpg',-1)\n",
    "# print(img)\n",
    "# (b,g,r) = img[100,100]S\n",
    "# print(b,g,r)\n",
    "\n",
    "# for i in range(1,100):\n",
    "#     img[10+i,100] = (255,0,0)\n",
    "cv2.namedWindow('lena')\n",
    "cv2.imshow('lena',img)\n",
    "key = cv2.waitKey(0)\n",
    "if key == ord('a'):\n",
    "    print('pressA')\n",
    "    cv2.imshow('pressA',img)\n",
    "elif key == ord('b'):\n",
    "    print('pressB')\n",
    "    cv2.imshow('pressB',img)\n",
    "else:\n",
    "    print('press no a or b')\n",
    "key = cv2.waitKey(0)\n",
    "cv2.destroyAllWindows()"
   ]
  },
  {
   "cell_type": "code",
   "execution_count": 1,
   "metadata": {},
   "outputs": [],
   "source": [
    "import cv2\n",
    "lena = cv2.imread('lena.jpg')\n",
    "cv2.imshow('demo1',lena)\n",
    "cv2.imshow('demo2',lena)\n",
    "cv2.waitKey(0)\n",
    "cv2.destroyAllWindows()"
   ]
  },
  {
   "cell_type": "code",
   "execution_count": 2,
   "metadata": {},
   "outputs": [
    {
     "data": {
      "text/plain": [
       "True"
      ]
     },
     "execution_count": 2,
     "metadata": {},
     "output_type": "execute_result"
    }
   ],
   "source": [
    "import cv2 \n",
    "lena = cv2.imread('lena.jpg')\n",
    "cv2.imwrite('lena.bmp',lena)"
   ]
  },
  {
   "cell_type": "code",
   "execution_count": null,
   "metadata": {},
   "outputs": [],
   "source": []
  }
 ],
 "metadata": {
  "kernelspec": {
   "display_name": "Python 3",
   "language": "python",
   "name": "python3"
  },
  "language_info": {
   "codemirror_mode": {
    "name": "ipython",
    "version": 3
   },
   "file_extension": ".py",
   "mimetype": "text/x-python",
   "name": "python",
   "nbconvert_exporter": "python",
   "pygments_lexer": "ipython3",
   "version": "3.7.7"
  }
 },
 "nbformat": 4,
 "nbformat_minor": 4
}
